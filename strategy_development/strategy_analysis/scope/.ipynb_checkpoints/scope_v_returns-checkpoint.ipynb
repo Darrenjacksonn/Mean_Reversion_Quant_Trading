{
 "cells": [
  {
   "cell_type": "code",
   "execution_count": 3,
   "id": "c33ba96d-6e76-463d-ab47-7f4322f49e23",
   "metadata": {},
   "outputs": [],
   "source": [
    "import warnings\n",
    "warnings.filterwarnings(\"ignore\", category=FutureWarning)\n",
    "import sys\n",
    "sys.path.append('../')\n",
    "from performance.performance_function import performance_analysis"
   ]
  },
  {
   "cell_type": "code",
   "execution_count": 4,
   "id": "954bcc09-14bf-47e2-915b-0560a4f9b00a",
   "metadata": {},
   "outputs": [],
   "source": [
    "periods = [ \n",
    "    ['1984-01-02', '1994-01-01', 100], \n",
    "    ['1994-01-02', '2004-01-01', 100], \n",
    "]\n",
    "\n",
    "tickers_range = [0,2]\n",
    "\n",
    "relevant_metrics = ['B&H % increase','Strat risk-adj % increase', 'No. of trades', 'Win / Loss Ratio']"
   ]
  },
  {
   "cell_type": "code",
   "execution_count": 7,
   "id": "c1fefed6-378e-44f4-abaa-0d05a16eb321",
   "metadata": {},
   "outputs": [
    {
     "name": "stderr",
     "output_type": "stream",
     "text": [
      "[*********************100%%**********************]  1 of 1 completed\n",
      "[*********************100%%**********************]  1 of 1 completed\n"
     ]
    }
   ],
   "source": [
    "bro = performance_analysis(periods, tickers_range, relevant_metrics)\n",
    "bro"
   ]
  },
  {
   "cell_type": "code",
   "execution_count": 8,
   "id": "048738a7-51cf-45ed-8519-8fdca3844398",
   "metadata": {},
   "outputs": [],
   "source": [
    "bro"
   ]
  },
  {
   "cell_type": "code",
   "execution_count": null,
   "id": "a07fa864-3ef2-40d6-a4c2-1be3d1a06c15",
   "metadata": {},
   "outputs": [],
   "source": []
  }
 ],
 "metadata": {
  "kernelspec": {
   "display_name": "venviro2QTP1",
   "language": "python",
   "name": "venviro2"
  },
  "language_info": {
   "codemirror_mode": {
    "name": "ipython",
    "version": 3
   },
   "file_extension": ".py",
   "mimetype": "text/x-python",
   "name": "python",
   "nbconvert_exporter": "python",
   "pygments_lexer": "ipython3",
   "version": "3.12.2"
  }
 },
 "nbformat": 4,
 "nbformat_minor": 5
}
