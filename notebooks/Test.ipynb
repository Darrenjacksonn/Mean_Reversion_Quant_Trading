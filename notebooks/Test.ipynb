{
 "cells": [
  {
   "cell_type": "code",
   "execution_count": 18,
   "id": "687cdd38-3035-4139-a4d2-1e617d17008e",
   "metadata": {},
   "outputs": [],
   "source": [
    "import sys\n",
    "sys.path.append('data_exploration')\n",
    "from stock_info import StockInfo\n",
    "import warnings\n",
    "warnings.filterwarnings(\"ignore\", category=FutureWarning)"
   ]
  },
  {
   "cell_type": "code",
   "execution_count": 19,
   "id": "e844d659-1a9c-40aa-be40-a72e321a4e4e",
   "metadata": {},
   "outputs": [
    {
     "name": "stderr",
     "output_type": "stream",
     "text": [
      "[*********************100%%**********************]  1 of 1 completed\n"
     ]
    }
   ],
   "source": [
    "stock = StockInfo('MSFT',start='2010-01-01',end='2010-01-12')"
   ]
  },
  {
   "cell_type": "code",
   "execution_count": 20,
   "id": "2383105f-4922-42a9-9c71-c8b7ae1cf39e",
   "metadata": {},
   "outputs": [
    {
     "data": {
      "text/html": [
       "<div>\n",
       "<style scoped>\n",
       "    .dataframe tbody tr th:only-of-type {\n",
       "        vertical-align: middle;\n",
       "    }\n",
       "\n",
       "    .dataframe tbody tr th {\n",
       "        vertical-align: top;\n",
       "    }\n",
       "\n",
       "    .dataframe thead th {\n",
       "        text-align: right;\n",
       "    }\n",
       "</style>\n",
       "<table border=\"1\" class=\"dataframe\">\n",
       "  <thead>\n",
       "    <tr style=\"text-align: right;\">\n",
       "      <th></th>\n",
       "      <th>MSFT</th>\n",
       "    </tr>\n",
       "    <tr>\n",
       "      <th>Date</th>\n",
       "      <th></th>\n",
       "    </tr>\n",
       "  </thead>\n",
       "  <tbody>\n",
       "    <tr>\n",
       "      <th>2010-01-04</th>\n",
       "      <td>23.431593</td>\n",
       "    </tr>\n",
       "    <tr>\n",
       "      <th>2010-01-05</th>\n",
       "      <td>23.439154</td>\n",
       "    </tr>\n",
       "    <tr>\n",
       "      <th>2010-01-06</th>\n",
       "      <td>23.295311</td>\n",
       "    </tr>\n",
       "    <tr>\n",
       "      <th>2010-01-07</th>\n",
       "      <td>23.053049</td>\n",
       "    </tr>\n",
       "    <tr>\n",
       "      <th>2010-01-08</th>\n",
       "      <td>23.212030</td>\n",
       "    </tr>\n",
       "    <tr>\n",
       "      <th>2010-01-11</th>\n",
       "      <td>22.916775</td>\n",
       "    </tr>\n",
       "  </tbody>\n",
       "</table>\n",
       "</div>"
      ],
      "text/plain": [
       "                 MSFT\n",
       "Date                 \n",
       "2010-01-04  23.431593\n",
       "2010-01-05  23.439154\n",
       "2010-01-06  23.295311\n",
       "2010-01-07  23.053049\n",
       "2010-01-08  23.212030\n",
       "2010-01-11  22.916775"
      ]
     },
     "execution_count": 20,
     "metadata": {},
     "output_type": "execute_result"
    }
   ],
   "source": [
    "stock.data"
   ]
  },
  {
   "cell_type": "code",
   "execution_count": 21,
   "id": "90e8568a-9b3d-470b-852a-e8568cdc6cfb",
   "metadata": {},
   "outputs": [
    {
     "data": {
      "image/png": "[encoded data removed]",
      "text/plain": [
       "<Figure size 640x480 with 1 Axes>"
      ]
     },
     "metadata": {},
     "output_type": "display_data"
    }
   ],
   "source": [
    "stock.plot_stock_price()"
   ]
  },
  {
   "cell_type": "code",
   "execution_count": 22,
   "id": "8bf6d1b3-df50-4a7d-b2e3-6da8ce88b794",
   "metadata": {},
   "outputs": [
    {
     "data": {
      "text/plain": [
       "MSFT    23.224652\n",
       "dtype: float64"
      ]
     },
     "execution_count": 22,
     "metadata": {},
     "output_type": "execute_result"
    }
   ],
   "source": [
    "stock.mean()"
   ]
  },
  {
   "cell_type": "code",
   "execution_count": 23,
   "id": "4c923665-b80e-4b95-8a3f-171b099eef7a",
   "metadata": {},
   "outputs": [
    {
     "data": {
      "text/plain": [
       "MSFT    0.043645\n",
       "dtype: float64"
      ]
     },
     "execution_count": 23,
     "metadata": {},
     "output_type": "execute_result"
    }
   ],
   "source": [
    "stock.variance()"
   ]
  },
  {
   "cell_type": "code",
   "execution_count": 24,
   "id": "5b7818aa-cc6a-4ad7-a150-7f09a9b705b5",
   "metadata": {},
   "outputs": [
    {
     "data": {
      "text/plain": [
       "MSFT    0.208913\n",
       "dtype: float64"
      ]
     },
     "execution_count": 24,
     "metadata": {},
     "output_type": "execute_result"
    }
   ],
   "source": [
    "stock.std()"
   ]
  },
  {
   "cell_type": "code",
   "execution_count": 29,
   "id": "08adf8d9-5643-4dac-9f12-4b0e30681749",
   "metadata": {},
   "outputs": [
    {
     "data": {
      "text/html": [
       "<div>\n",
       "<style scoped>\n",
       "    .dataframe tbody tr th:only-of-type {\n",
       "        vertical-align: middle;\n",
       "    }\n",
       "\n",
       "    .dataframe tbody tr th {\n",
       "        vertical-align: top;\n",
       "    }\n",
       "\n",
       "    .dataframe thead th {\n",
       "        text-align: right;\n",
       "    }\n",
       "</style>\n",
       "<table border=\"1\" class=\"dataframe\">\n",
       "  <thead>\n",
       "    <tr style=\"text-align: right;\">\n",
       "      <th></th>\n",
       "      <th>MSFT</th>\n",
       "    </tr>\n",
       "    <tr>\n",
       "      <th>Date</th>\n",
       "      <th></th>\n",
       "    </tr>\n",
       "  </thead>\n",
       "  <tbody>\n",
       "    <tr>\n",
       "      <th>2010-01-04</th>\n",
       "      <td>100.000000</td>\n",
       "    </tr>\n",
       "    <tr>\n",
       "      <th>2010-01-05</th>\n",
       "      <td>100.032267</td>\n",
       "    </tr>\n",
       "    <tr>\n",
       "      <th>2010-01-06</th>\n",
       "      <td>99.418384</td>\n",
       "    </tr>\n",
       "    <tr>\n",
       "      <th>2010-01-07</th>\n",
       "      <td>98.384472</td>\n",
       "    </tr>\n",
       "    <tr>\n",
       "      <th>2010-01-08</th>\n",
       "      <td>99.062964</td>\n",
       "    </tr>\n",
       "    <tr>\n",
       "      <th>2010-01-11</th>\n",
       "      <td>97.802889</td>\n",
       "    </tr>\n",
       "  </tbody>\n",
       "</table>\n",
       "</div>"
      ],
      "text/plain": [
       "                  MSFT\n",
       "Date                  \n",
       "2010-01-04  100.000000\n",
       "2010-01-05  100.032267\n",
       "2010-01-06   99.418384\n",
       "2010-01-07   98.384472\n",
       "2010-01-08   99.062964\n",
       "2010-01-11   97.802889"
      ]
     },
     "execution_count": 29,
     "metadata": {},
     "output_type": "execute_result"
    }
   ],
   "source": [
    "stock.df_returns()"
   ]
  },
  {
   "cell_type": "code",
   "execution_count": 25,
   "id": "136e9374-850c-496c-a38b-08605323783f",
   "metadata": {},
   "outputs": [
    {
     "data": {
      "image/png": "[encoded data removed]",
      "text/plain": [
       "<Figure size 640x480 with 1 Axes>"
      ]
     },
     "metadata": {},
     "output_type": "display_data"
    }
   ],
   "source": [
    "stock.plot_returns()"
   ]
  },
  {
   "cell_type": "code",
   "execution_count": 26,
   "id": "be030176-9f50-4f5e-8f74-7233db142bb0",
   "metadata": {},
   "outputs": [
    {
     "data": {
      "text/plain": [
       "MSFT   -0.440748\n",
       "dtype: float64"
      ]
     },
     "execution_count": 26,
     "metadata": {},
     "output_type": "execute_result"
    }
   ],
   "source": [
    "stock.mean_of_returns()"
   ]
  },
  {
   "cell_type": "code",
   "execution_count": 27,
   "id": "b9cb4833-c5e4-4d41-90d1-b295ca2aecf2",
   "metadata": {},
   "outputs": [
    {
     "data": {
      "text/plain": [
       "MSFT    0.645359\n",
       "dtype: float64"
      ]
     },
     "execution_count": 27,
     "metadata": {},
     "output_type": "execute_result"
    }
   ],
   "source": [
    "stock.variance_of_returns()"
   ]
  },
  {
   "cell_type": "code",
   "execution_count": 28,
   "id": "1f06d197-61a0-4d22-9408-0adeb2a95328",
   "metadata": {},
   "outputs": [
    {
     "data": {
      "text/plain": [
       "MSFT    0.803342\n",
       "dtype: float64"
      ]
     },
     "execution_count": 28,
     "metadata": {},
     "output_type": "execute_result"
    }
   ],
   "source": [
    "stock.std_of_returns()"
   ]
  },
  {
   "cell_type": "code",
   "execution_count": null,
   "id": "b8a20d2a-8b09-4172-83c6-9d7ffb7adb67",
   "metadata": {},
   "outputs": [],
   "source": []
  }
 ],
 "metadata": {
  "kernelspec": {
   "display_name": "venviro_QTP1",
   "language": "python",
   "name": "venviro2"
  },
  "language_info": {
   "codemirror_mode": {
    "name": "ipython",
    "version": 3
   },
   "file_extension": ".py",
   "mimetype": "text/x-python",
   "name": "python",
   "nbconvert_exporter": "python",
   "pygments_lexer": "ipython3",
   "version": "3.12.2"
  }
 },
 "nbformat": 4,
 "nbformat_minor": 5
}
