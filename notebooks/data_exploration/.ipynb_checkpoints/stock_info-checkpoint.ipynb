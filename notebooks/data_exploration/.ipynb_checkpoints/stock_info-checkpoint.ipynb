{
 "cells": [
  {
   "cell_type": "markdown",
   "id": "357d330c-06f9-4cf3-9f7d-7ca294f0a8ad",
   "metadata": {},
   "source": [
    "# Custom Class"
   ]
  },
  {
   "cell_type": "code",
   "execution_count": 14,
   "id": "70b7d941-3be5-40d8-80f7-d34aa131ed52",
   "metadata": {},
   "outputs": [],
   "source": [
    "import yfinance as yf\n",
    "import pandas as pd\n",
    "import matplotlib as plt\n",
    "import numpy as np\n",
    "from statsmodels.tsa.stattools import adfuller\n",
    "\n",
    "import requests as rq\n",
    "import bs4 as BeautifulSoup"
   ]
  },
  {
   "cell_type": "code",
   "execution_count": 2,
   "id": "652479f5-2c50-4c83-80b0-dea1b7d8e0a3",
   "metadata": {},
   "outputs": [
    {
     "name": "stderr",
     "output_type": "stream",
     "text": [
      "C:\\Users\\DarrenJackson\\Desktop\\Coding\\Projects\\Quantitative Trading\\Project_1\\venviro2\\Lib\\site-packages\\yfinance\\utils.py:775: FutureWarning: The 'unit' keyword in TimedeltaIndex construction is deprecated and will be removed in a future version. Use pd.to_timedelta instead.\n",
      "  df.index += _pd.TimedeltaIndex(dst_error_hours, 'h')\n",
      "[*********************100%%**********************]  1 of 1 completed\n"
     ]
    }
   ],
   "source": [
    "'''\n",
    "Going to define a custom class, each instance is the information on a single stock, will then define a seperate \n",
    "analysing class to compare stocks\n",
    "\n",
    "This class StockInfo will contain all information about a stock between a certain period specified and will \n",
    "also be able to compute relevant mathematical computations on the stock info, as well as plot some key graphs.\n",
    "'''\n",
    "\n",
    "class StockInfo():\n",
    "    '''\n",
    "    This class gathers the 'Adj Close' prices of the stock with ticker = ticker\n",
    "    \n",
    "    When you initiate the function you have the option to select a start and end date, if none are inputted,\n",
    "    all possible data will be selected. The data is stored in a pandas DataFrame.\n",
    "    '''\n",
    "    def __init__(self, ticker: str, start = None, end = None, interval = '1d') -> pd.DataFrame:\n",
    "        adj_close_prices = yf.download(ticker, start = start, end = end, interval = interval)['Adj Close'].to_frame()\n",
    "        \n",
    "        self.data = adj_close_prices.rename(columns = {'Adj Close' : f\"{ticker}\"})\n",
    "        self.ticker = ticker\n",
    "\n",
    "    def default_period(self, period):\n",
    "        if not period:\n",
    "            period = [self.data.index[0], self.data.index[-1], 1]\n",
    "        return period\n",
    "\n",
    "    '''\n",
    "        For Displaying info about the Stock Prices\n",
    "                                                    '''\n",
    "\n",
    "    def display_data(self, period = None):\n",
    "        period = self.default_period(period)\n",
    "        return self.data.loc[period[0] : period[1]]\n",
    "\n",
    "    def plot_stock_price(self, period = None):\n",
    "        period, segment = self.default_period(period), self.display_data(period)\n",
    "        segment.plot()\n",
    "\n",
    "    '''\n",
    "        THESE METHODS HELP YOU WORK WITH RETURNS \n",
    "                                                    '''\n",
    "    \n",
    "    # 'returns' function outputs the returns of the stock in a given interval\n",
    "    def df_returns(self, period = None) -> pd.DataFrame:\n",
    "        period = self.default_period(period)\n",
    "        segment = self.data.loc[period[0] : period[1]]\n",
    "        return segment.div(segment.iloc[0]).mul(period[2])\n",
    "\n",
    "    def returns(self, period = None) -> float:\n",
    "        return_df = self.df_returns(period)\n",
    "        return return_df.iloc[-1] - return_df.iloc[0]\n",
    "\n",
    "    def perc_returns(self, period = None) -> float:\n",
    "        return_df = self.df_returns(period)\n",
    "        return (return_df.iloc[-1] - return_df.iloc[0]) / return_df.iloc[0] * 100\n",
    "\n",
    "    def plot_returns(self, period = None):\n",
    "        return_df = self.df_returns(period)\n",
    "        return_df.plot()\n",
    "    \n",
    "\n",
    "\n",
    "    \n",
    "\n",
    "    '''\n",
    "        THESE METHODS HELP YOU WORK WITH VOLATILITY\n",
    "                                                    '''\n",
    "\n",
    "    def variance(self, period = None):\n",
    "        period = self.default_period(period)\n",
    "        segment = self.data.loc[period[0] : period[1]]\n",
    "        return segment.pct_change().mul(100).dropna().var()\n",
    "\n",
    "    def sigma(self, period = None):\n",
    "        return np.sqrt(self.variance(period))\n",
    "\n",
    "\n",
    "    '''\n",
    "        Augmented Dickey-Fuller Test\n",
    "                                    '''\n",
    "\n",
    "    def adf_test(self, period = None, graph = False):\n",
    "        period = self.default_period(period)\n",
    "        segment = self.data.loc[period[0] : period[1]]\n",
    "        arr = segment.iloc[:,0] # Converts 1D Pandas DataFrame to series\n",
    "        result = adfuller(arr)\n",
    "        if graph:\n",
    "            self.plot_stock_price(period)\n",
    "        return f\" ADF Statistic: {result[0]} \\np-value: {result[1]}\"\n",
    "        \n",
    "        \n",
    "        \n",
    "        \n",
    "        \n",
    "msft = StockInfo('MSFT')"
   ]
  },
  {
   "cell_type": "code",
   "execution_count": 13,
   "id": "e35a380b-c831-4cca-8997-be65cc498d26",
   "metadata": {},
   "outputs": [
    {
     "ename": "TypeError",
     "evalue": "'module' object is not callable",
     "output_type": "error",
     "traceback": [
      "\u001b[1;31m---------------------------------------------------------------------------\u001b[0m",
      "\u001b[1;31mTypeError\u001b[0m                                 Traceback (most recent call last)",
      "Cell \u001b[1;32mIn[13], line 6\u001b[0m\n\u001b[0;32m      4\u001b[0m url \u001b[38;5;241m=\u001b[39m \u001b[38;5;124m'\u001b[39m\u001b[38;5;124mhttps://stockanalysis.com/list/sp-500-stocks/\u001b[39m\u001b[38;5;124m'\u001b[39m\n\u001b[0;32m      5\u001b[0m response \u001b[38;5;241m=\u001b[39m rq\u001b[38;5;241m.\u001b[39mget(url)\n\u001b[1;32m----> 6\u001b[0m soup \u001b[38;5;241m=\u001b[39m \u001b[43mBeautifulSoup\u001b[49m\u001b[43m(\u001b[49m\u001b[43mhtml_doc\u001b[49m\u001b[43m,\u001b[49m\u001b[43m \u001b[49m\u001b[38;5;124;43m'\u001b[39;49m\u001b[38;5;124;43mhtml.parser\u001b[39;49m\u001b[38;5;124;43m'\u001b[39;49m\u001b[43m)\u001b[49m\n\u001b[0;32m      7\u001b[0m soup\n",
      "\u001b[1;31mTypeError\u001b[0m: 'module' object is not callable"
     ]
    }
   ],
   "source": [
    "# Get all the S&P 500 Indexes\n",
    "html_doc = \"<html><head><title>Hello, world!</title></head></html>\"\n",
    "\n",
    "url = 'https://stockanalysis.com/list/sp-500-stocks/'\n",
    "response = rq.get(url)\n",
    "soup = BeautifulSoup(html_doc, 'html.parser')\n",
    "soup"
   ]
  },
  {
   "cell_type": "markdown",
   "id": "ad064d11-6a16-4d09-9d0d-7b63a2fd28b4",
   "metadata": {},
   "source": [
    "## Rough Work"
   ]
  },
  {
   "cell_type": "markdown",
   "id": "e38b1183-5760-4a04-af69-1be241ec32a9",
   "metadata": {},
   "source": [
    "### Initialising"
   ]
  },
  {
   "cell_type": "code",
   "execution_count": null,
   "id": "91aa92e2-0a2a-4a6b-a260-6dc776714770",
   "metadata": {},
   "outputs": [],
   "source": []
  }
 ],
 "metadata": {
  "kernelspec": {
   "display_name": "venviro_QTP1",
   "language": "python",
   "name": "venviro2"
  },
  "language_info": {
   "codemirror_mode": {
    "name": "ipython",
    "version": 3
   },
   "file_extension": ".py",
   "mimetype": "text/x-python",
   "name": "python",
   "nbconvert_exporter": "python",
   "pygments_lexer": "ipython3",
   "version": "3.12.2"
  }
 },
 "nbformat": 4,
 "nbformat_minor": 5
}
