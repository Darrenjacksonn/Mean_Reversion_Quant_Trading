{
 "cells": [
  {
   "cell_type": "markdown",
   "id": "357d330c-06f9-4cf3-9f7d-7ca294f0a8ad",
   "metadata": {},
   "source": [
    "# Custom Class"
   ]
  },
  {
   "cell_type": "code",
   "execution_count": 52,
   "id": "70b7d941-3be5-40d8-80f7-d34aa131ed52",
   "metadata": {},
   "outputs": [],
   "source": [
    "import yfinance as yf\n",
    "import pandas as pd\n",
    "import matplotlib as plt"
   ]
  },
  {
   "cell_type": "code",
   "execution_count": 60,
   "id": "652479f5-2c50-4c83-80b0-dea1b7d8e0a3",
   "metadata": {},
   "outputs": [
    {
     "name": "stderr",
     "output_type": "stream",
     "text": [
      "C:\\Users\\DarrenJackson\\Desktop\\Coding\\Projects\\Quantitative Trading\\Project_1\\venviro2\\Lib\\site-packages\\yfinance\\utils.py:775: FutureWarning: The 'unit' keyword in TimedeltaIndex construction is deprecated and will be removed in a future version. Use pd.to_timedelta instead.\n",
      "  df.index += _pd.TimedeltaIndex(dst_error_hours, 'h')\n",
      "[*********************100%%**********************]  1 of 1 completed\n"
     ]
    },
    {
     "data": {
      "text/html": [
       "<div>\n",
       "<style scoped>\n",
       "    .dataframe tbody tr th:only-of-type {\n",
       "        vertical-align: middle;\n",
       "    }\n",
       "\n",
       "    .dataframe tbody tr th {\n",
       "        vertical-align: top;\n",
       "    }\n",
       "\n",
       "    .dataframe thead th {\n",
       "        text-align: right;\n",
       "    }\n",
       "</style>\n",
       "<table border=\"1\" class=\"dataframe\">\n",
       "  <thead>\n",
       "    <tr style=\"text-align: right;\">\n",
       "      <th></th>\n",
       "      <th>AAPL</th>\n",
       "    </tr>\n",
       "    <tr>\n",
       "      <th>Date</th>\n",
       "      <th></th>\n",
       "    </tr>\n",
       "  </thead>\n",
       "  <tbody>\n",
       "    <tr>\n",
       "      <th>1980-12-12</th>\n",
       "      <td>0.099192</td>\n",
       "    </tr>\n",
       "    <tr>\n",
       "      <th>1980-12-15</th>\n",
       "      <td>0.094017</td>\n",
       "    </tr>\n",
       "    <tr>\n",
       "      <th>1980-12-16</th>\n",
       "      <td>0.087117</td>\n",
       "    </tr>\n",
       "    <tr>\n",
       "      <th>1980-12-17</th>\n",
       "      <td>0.089273</td>\n",
       "    </tr>\n",
       "    <tr>\n",
       "      <th>1980-12-18</th>\n",
       "      <td>0.091861</td>\n",
       "    </tr>\n",
       "    <tr>\n",
       "      <th>...</th>\n",
       "      <td>...</td>\n",
       "    </tr>\n",
       "    <tr>\n",
       "      <th>2024-02-12</th>\n",
       "      <td>187.149994</td>\n",
       "    </tr>\n",
       "    <tr>\n",
       "      <th>2024-02-13</th>\n",
       "      <td>185.039993</td>\n",
       "    </tr>\n",
       "    <tr>\n",
       "      <th>2024-02-14</th>\n",
       "      <td>184.149994</td>\n",
       "    </tr>\n",
       "    <tr>\n",
       "      <th>2024-02-15</th>\n",
       "      <td>183.860001</td>\n",
       "    </tr>\n",
       "    <tr>\n",
       "      <th>2024-02-16</th>\n",
       "      <td>182.539993</td>\n",
       "    </tr>\n",
       "  </tbody>\n",
       "</table>\n",
       "<p>10886 rows × 1 columns</p>\n",
       "</div>"
      ],
      "text/plain": [
       "                  AAPL\n",
       "Date                  \n",
       "1980-12-12    0.099192\n",
       "1980-12-15    0.094017\n",
       "1980-12-16    0.087117\n",
       "1980-12-17    0.089273\n",
       "1980-12-18    0.091861\n",
       "...                ...\n",
       "2024-02-12  187.149994\n",
       "2024-02-13  185.039993\n",
       "2024-02-14  184.149994\n",
       "2024-02-15  183.860001\n",
       "2024-02-16  182.539993\n",
       "\n",
       "[10886 rows x 1 columns]"
      ]
     },
     "execution_count": 60,
     "metadata": {},
     "output_type": "execute_result"
    }
   ],
   "source": [
    "\n",
    "\n",
    "'''\n",
    "Going to define a custom class, each instance is the information on a single stock, will then define a seperate \n",
    "analysing class to compare stocks\n",
    "\n",
    "This class StockInfo will contain all information about a stock between a certain period specified and will \n",
    "also be able to compute relevant mathematical computations on the stock info, as well as plot some key graphs.\n",
    "'''\n",
    "\n",
    "class StockInfo():\n",
    "    '''\n",
    "    This class gathers the 'Adj Close' prices of the stock with ticker = ticker\n",
    "    \n",
    "    When you initiate the function you have the option to select a start and end date, if none are inputted,\n",
    "    all possible data will be selected. The data is stored in a pandas DataFrame.\n",
    "    '''\n",
    "    def __init__(self, ticker: str, start = None, end = None, interval = '1d') -> pd.DataFrame:\n",
    "        adj_close_prices = yf.download(ticker, start = start, end = end, interval = interval)['Adj Close'].to_frame()\n",
    "        self.data = adj_close_prices.rename(columns = {'Adj Close' : f\"{ticker}\"})\n",
    "\n",
    "    '''\n",
    "        THESE METHODS HELP YOU WORK WITH RETURNS \n",
    "                                                    '''\n",
    "    \n",
    "    # 'returns' function outputs the returns of the stock in a given interval\n",
    "    def df_returns(self, period = [None, None, 1]) -> pd.DataFrame:\n",
    "        if not period[0]:\n",
    "            period[0] = self.data.index[0]\n",
    "        if not period[1]:\n",
    "            period[1] = self.data.index[-1]\n",
    "        segment = self.data.loc[period[0] : period[1]]\n",
    "        return segment.div(segment.iloc[0]).mul(period[2])\n",
    "\n",
    "    def returns(self, period = [None, None, 1]) -> float:\n",
    "        return_df = self.df_returns(period)\n",
    "        return return_df.iloc[-1] - return_df.iloc[0]\n",
    "\n",
    "    def perc_returns(self, period = [None, None, 1]) -> float:\n",
    "        return_df = self.df_returns(period)\n",
    "        return (return_df.iloc[-1] - return_df.iloc[0]) / return_df.iloc[0] * 100\n",
    "\n",
    "    def plot_returns(self, period = [None, None, 1]):\n",
    "        return_df = self.df_returns(period)\n",
    "        return_df.plot()\n",
    "\n",
    "\n",
    "    \n",
    "\n",
    "    '''\n",
    "        THESE METHODS HELP YOU WORK WITH VOLATILITY\n",
    "                                                    '''\n",
    "\n",
    "    def sigma(self, period = [None, None, 100]):\n",
    "        pass\n",
    "        \n",
    "        \n",
    "        \n",
    "\n",
    "\n",
    "aapl = StockInfo('AAPL')\n",
    "aapl.data"
   ]
  },
  {
   "cell_type": "markdown",
   "id": "ad064d11-6a16-4d09-9d0d-7b63a2fd28b4",
   "metadata": {},
   "source": [
    "## Rough Work"
   ]
  },
  {
   "cell_type": "markdown",
   "id": "e38b1183-5760-4a04-af69-1be241ec32a9",
   "metadata": {},
   "source": [
    "### Initialising"
   ]
  },
  {
   "cell_type": "code",
   "execution_count": 61,
   "id": "df5fa121-4bd3-4984-96ff-014a46cdc5e2",
   "metadata": {},
   "outputs": [],
   "source": [
    "period = ['2012-01-01', '2013-01-01', 100]"
   ]
  },
  {
   "cell_type": "code",
   "execution_count": 63,
   "id": "e7bb0379-f9a5-476a-ab22-c76ff2adf736",
   "metadata": {},
   "outputs": [
    {
     "data": {
      "text/html": [
       "<div>\n",
       "<style scoped>\n",
       "    .dataframe tbody tr th:only-of-type {\n",
       "        vertical-align: middle;\n",
       "    }\n",
       "\n",
       "    .dataframe tbody tr th {\n",
       "        vertical-align: top;\n",
       "    }\n",
       "\n",
       "    .dataframe thead th {\n",
       "        text-align: right;\n",
       "    }\n",
       "</style>\n",
       "<table border=\"1\" class=\"dataframe\">\n",
       "  <thead>\n",
       "    <tr style=\"text-align: right;\">\n",
       "      <th></th>\n",
       "      <th>AAPL</th>\n",
       "    </tr>\n",
       "    <tr>\n",
       "      <th>Date</th>\n",
       "      <th></th>\n",
       "    </tr>\n",
       "  </thead>\n",
       "  <tbody>\n",
       "    <tr>\n",
       "      <th>2012-01-03</th>\n",
       "      <td>100.000000</td>\n",
       "    </tr>\n",
       "    <tr>\n",
       "      <th>2012-01-04</th>\n",
       "      <td>100.537383</td>\n",
       "    </tr>\n",
       "    <tr>\n",
       "      <th>2012-01-05</th>\n",
       "      <td>101.653537</td>\n",
       "    </tr>\n",
       "    <tr>\n",
       "      <th>2012-01-06</th>\n",
       "      <td>102.716238</td>\n",
       "    </tr>\n",
       "    <tr>\n",
       "      <th>2012-01-09</th>\n",
       "      <td>102.553281</td>\n",
       "    </tr>\n",
       "    <tr>\n",
       "      <th>...</th>\n",
       "      <td>...</td>\n",
       "    </tr>\n",
       "    <tr>\n",
       "      <th>2012-12-24</th>\n",
       "      <td>127.614509</td>\n",
       "    </tr>\n",
       "    <tr>\n",
       "      <th>2012-12-26</th>\n",
       "      <td>125.855517</td>\n",
       "    </tr>\n",
       "    <tr>\n",
       "      <th>2012-12-27</th>\n",
       "      <td>126.360870</td>\n",
       "    </tr>\n",
       "    <tr>\n",
       "      <th>2012-12-28</th>\n",
       "      <td>125.018882</td>\n",
       "    </tr>\n",
       "    <tr>\n",
       "      <th>2012-12-31</th>\n",
       "      <td>130.558507</td>\n",
       "    </tr>\n",
       "  </tbody>\n",
       "</table>\n",
       "<p>250 rows × 1 columns</p>\n",
       "</div>"
      ],
      "text/plain": [
       "                  AAPL\n",
       "Date                  \n",
       "2012-01-03  100.000000\n",
       "2012-01-04  100.537383\n",
       "2012-01-05  101.653537\n",
       "2012-01-06  102.716238\n",
       "2012-01-09  102.553281\n",
       "...                ...\n",
       "2012-12-24  127.614509\n",
       "2012-12-26  125.855517\n",
       "2012-12-27  126.360870\n",
       "2012-12-28  125.018882\n",
       "2012-12-31  130.558507\n",
       "\n",
       "[250 rows x 1 columns]"
      ]
     },
     "execution_count": 63,
     "metadata": {},
     "output_type": "execute_result"
    }
   ],
   "source": [
    "aapl.df_returns(period)"
   ]
  },
  {
   "cell_type": "code",
   "execution_count": 64,
   "id": "fa4deca6-f37c-4289-9f72-e1b57d292ac0",
   "metadata": {},
   "outputs": [
    {
     "data": {
      "text/plain": [
       "AAPL    30.558507\n",
       "dtype: float64"
      ]
     },
     "execution_count": 64,
     "metadata": {},
     "output_type": "execute_result"
    }
   ],
   "source": [
    "aapl.returns(period)"
   ]
  },
  {
   "cell_type": "code",
   "execution_count": 65,
   "id": "d7247d82-9a9e-4732-8a71-fc2941640e45",
   "metadata": {},
   "outputs": [
    {
     "data": {
      "text/plain": [
       "AAPL    30.558507\n",
       "dtype: float64"
      ]
     },
     "execution_count": 65,
     "metadata": {},
     "output_type": "execute_result"
    }
   ],
   "source": [
    "aapl.perc_returns(period)"
   ]
  },
  {
   "cell_type": "code",
   "execution_count": 67,
   "id": "f325d28d-8c40-4844-8dca-e881fa0c786e",
   "metadata": {},
   "outputs": [
    {
     "data": {
      "image/png": "[encoded data removed]",
      "text/plain": [
       "<Figure size 640x480 with 1 Axes>"
      ]
     },
     "metadata": {},
     "output_type": "display_data"
    }
   ],
   "source": [
    "aapl.plot_returns(period)"
   ]
  },
  {
   "cell_type": "code",
   "execution_count": null,
   "id": "acca31be-0ecd-487c-998e-7380580735ee",
   "metadata": {},
   "outputs": [],
   "source": []
  }
 ],
 "metadata": {
  "kernelspec": {
   "display_name": "venviro_QTP1",
   "language": "python",
   "name": "venviro2"
  },
  "language_info": {
   "codemirror_mode": {
    "name": "ipython",
    "version": 3
   },
   "file_extension": ".py",
   "mimetype": "text/x-python",
   "name": "python",
   "nbconvert_exporter": "python",
   "pygments_lexer": "ipython3",
   "version": "3.12.2"
  }
 },
 "nbformat": 4,
 "nbformat_minor": 5
}
